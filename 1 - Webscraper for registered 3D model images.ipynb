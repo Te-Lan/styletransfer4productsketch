{
 "cells": [
  {
   "cell_type": "markdown",
   "id": "41a475c3-83d7-442d-9e24-10553ec48cc3",
   "metadata": {},
   "source": [
    "## Webscraper for registered 3D model images"
   ]
  },
  {
   "cell_type": "code",
   "execution_count": 1,
   "id": "564f9406-abe5-4de5-8812-667736320b15",
   "metadata": {},
   "outputs": [],
   "source": [
    "from bs4 import BeautifulSoup\n",
    "import requests"
   ]
  },
  {
   "cell_type": "code",
   "execution_count": 2,
   "id": "8d12a00e-eae8-40ee-abdf-e1e2e19da74c",
   "metadata": {},
   "outputs": [],
   "source": [
    "url = \"https://repo-sam.inria.fr/d3/OpenSketch/Data/registration/registration_grouped_object.html\"\n",
    "page = requests.get(url)\n",
    "soup = BeautifulSoup(page.text,\"html.parser\")\n",
    "images = soup.find_all(\"img\")"
   ]
  },
  {
   "cell_type": "code",
   "execution_count": 156,
   "id": "d097878a-ae8a-4d0f-84a8-38d47d3a2a69",
   "metadata": {},
   "outputs": [],
   "source": [
    "img_url_list = []\n",
    "for i in images:\n",
    "    file_path = str(i[\"src\"])\n",
    "    file_path_cleaned = file_path.replace(\"\\\\\",\"/\")\n",
    "    img_url =  \"https://repo-sam.inria.fr/d3/OpenSketch/Data/registration/\" + str(file_path_cleaned)\n",
    "    img_url_list.append(img_url)"
   ]
  },
  {
   "cell_type": "code",
   "execution_count": null,
   "id": "0aafb814-4450-4c59-9273-c5814279e66b",
   "metadata": {},
   "outputs": [],
   "source": [
    "for single_img_url in img_url_list:\n",
    "    # Code adapted from https://stackoverflow.com/questions/13137817/how-to-download-image-using-requests (Katja Süss)\n",
    "    url = single_img_url\n",
    "    filename = \"downloads/\" + str(url.split(\"/\")[-1])\n",
    "    r = requests.get(url, timeout=1)\n",
    "    print(\"scraping: \", str(url.split(\"/\")[-1]))\n",
    "    if r.status_code == 200:\n",
    "        with open(filename, 'wb') as f:\n",
    "            f.write(r.content)\n",
    "        print(\"------succeed------\")"
   ]
  }
 ],
 "metadata": {
  "kernelspec": {
   "display_name": "Python 3 (ipykernel)",
   "language": "python",
   "name": "python3"
  },
  "language_info": {
   "codemirror_mode": {
    "name": "ipython",
    "version": 3
   },
   "file_extension": ".py",
   "mimetype": "text/x-python",
   "name": "python",
   "nbconvert_exporter": "python",
   "pygments_lexer": "ipython3",
   "version": "3.9.7"
  }
 },
 "nbformat": 4,
 "nbformat_minor": 5
}
