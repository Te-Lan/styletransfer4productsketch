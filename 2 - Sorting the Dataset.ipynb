{
 "cells": [
  {
   "cell_type": "markdown",
   "id": "c1776e7c-3498-45af-bd60-8ed12b179637",
   "metadata": {},
   "source": [
    "## Sorting the Dataset"
   ]
  },
  {
   "cell_type": "code",
   "execution_count": 26,
   "id": "2d29927e-d63d-4261-b164-fd50f3501159",
   "metadata": {},
   "outputs": [],
   "source": [
    "import os \n",
    "import shutil\n",
    "from PIL import Image"
   ]
  },
  {
   "cell_type": "code",
   "execution_count": 18,
   "id": "fe58c1f5-b8c6-409c-89cc-30888554e3c2",
   "metadata": {},
   "outputs": [],
   "source": [
    "folder_name = \"sketches_json_first_viewpoint\"\n",
    "files = os.listdir(folder_name)"
   ]
  },
  {
   "cell_type": "code",
   "execution_count": 32,
   "id": "a5adde59-64f5-4f26-9eb9-1b5925dec72a",
   "metadata": {},
   "outputs": [],
   "source": [
    "for every_folder in files:\n",
    "    individual_name = str(every_folder) + \"_\"\n",
    "    if os.path.exists(folder_name + \"/\" + str(every_folder)) and not every_folder == \".DS_Store\":\n",
    "        individual_folder = os.listdir(folder_name + \"/\" + str(every_folder))\n",
    "        for every_object in individual_folder:\n",
    "            file_path = folder_name + \"/\" + str(every_folder) + \"/\" + str(every_object)\n",
    "            new_file_name = str(every_folder) + \"_\" +str(every_object) + \"_view1_restricted.png\"\n",
    "            if os.path.exists(file_path + \"/\" + \"view1_concept_opaque.png\"):\n",
    "                shutil.copyfile(file_path + \"/\" + \"view1_concept_opaque.png\", \"dataset_A/view1_concept_opaque.png\")\n",
    "                os.rename(\"dataset_A/view1_concept_opaque.png\", \"dataset_A/\" + new_file_name)\n",
    "            elif os.path.exists(file_path + \"/\" + \"view1_concept.png\"):\n",
    "                # change transparent png image into white backgroud one (opaque)\n",
    "                # code adapted from https://stackoverflow.com/questions/50898034/how-replace-transparent-with-a-color-in-pillow (Alperen Cetin)\n",
    "                image = Image.open(file_path + \"/\" + \"view1_concept.png\")\n",
    "                new_image = Image.new(\"RGBA\", image.size, \"WHITE\") # Create a white rgba background\n",
    "                new_image.paste(image, (0, 0), image)              # Paste the image on the background. Go to the links given below for details.\n",
    "                new_image.convert('RGB').save(\"dataset_A/\" + new_file_name, \"PNG\")\n",
    "                print(\"succeed transfer\")"
   ]
  },
  {
   "cell_type": "code",
   "execution_count": 33,
   "id": "a5f537d7-5e96-4541-afb6-8f3cc25ce04b",
   "metadata": {},
   "outputs": [],
   "source": [
    "folder_name = \"sketches_json_second_viewpoint\"\n",
    "files = os.listdir(folder_name)"
   ]
  },
  {
   "cell_type": "code",
   "execution_count": 34,
   "id": "3d2bbe7f-0cb7-47cc-9764-542ceac552cd",
   "metadata": {},
   "outputs": [],
   "source": [
    "for every_folder in files:\n",
    "    individual_name = str(every_folder) + \"_\"\n",
    "    if os.path.exists(folder_name + \"/\" + str(every_folder)) and not every_folder == \".DS_Store\":\n",
    "        individual_folder = os.listdir(folder_name + \"/\" + str(every_folder))\n",
    "        for every_object in individual_folder:\n",
    "            file_path = folder_name + \"/\" + str(every_folder) + \"/\" + str(every_object)\n",
    "            new_file_name = str(every_folder) + \"_\" +str(every_object) + \"_view2_restricted.png\"\n",
    "            if os.path.exists(file_path + \"/\" + \"view2_concept_opaque.png\"):\n",
    "                shutil.copyfile(file_path + \"/\" + \"view2_concept_opaque.png\", \"dataset_A/view2_concept_opaque.png\")\n",
    "                os.rename(\"dataset_A/view2_concept_opaque.png\", \"dataset_A/\" + new_file_name)\n",
    "            elif os.path.exists(file_path + \"/\" + \"view2_concept.png\"):\n",
    "                # change transparent png image into white backgroud one (opaque)\n",
    "                # code adapted from https://stackoverflow.com/questions/50898034/how-replace-transparent-with-a-color-in-pillow (Alperen Cetin)\n",
    "                image = Image.open(file_path + \"/\" + \"view2_concept.png\")\n",
    "                new_image = Image.new(\"RGBA\", image.size, \"WHITE\") # Create a white rgba background\n",
    "                new_image.paste(image, (0, 0), image)              # Paste the image on the background. Go to the links given below for details.\n",
    "                new_image.convert('RGB').save(\"dataset_A/\" + new_file_name, \"PNG\")\n",
    "                print(\"succeed transfer\")"
   ]
  },
  {
   "cell_type": "code",
   "execution_count": null,
   "id": "234c4a2a-81b0-4f27-b17e-3f5655f0697e",
   "metadata": {},
   "outputs": [],
   "source": []
  }
 ],
 "metadata": {
  "kernelspec": {
   "display_name": "Python 3 (ipykernel)",
   "language": "python",
   "name": "python3"
  },
  "language_info": {
   "codemirror_mode": {
    "name": "ipython",
    "version": 3
   },
   "file_extension": ".py",
   "mimetype": "text/x-python",
   "name": "python",
   "nbconvert_exporter": "python",
   "pygments_lexer": "ipython3",
   "version": "3.9.7"
  }
 },
 "nbformat": 4,
 "nbformat_minor": 5
}
