{
 "cells": [
  {
   "cell_type": "markdown",
   "id": "d8e4f318-f29a-4a42-9761-28978a9f0da6",
   "metadata": {},
   "source": [
    "## Scaling training dataset"
   ]
  },
  {
   "cell_type": "code",
   "execution_count": 1,
   "id": "019778cc-ceae-462a-9958-6777cb9a238f",
   "metadata": {},
   "outputs": [],
   "source": [
    "import os \n",
    "import shutil\n",
    "from PIL import Image, ImageOps"
   ]
  },
  {
   "cell_type": "code",
   "execution_count": null,
   "id": "e6782dce-9788-4ce5-9e16-0a8027f464ce",
   "metadata": {
    "tags": []
   },
   "outputs": [],
   "source": [
    "# read paired image\n",
    "sketch = os.listdir(\"dataset_A\")\n",
    "model = os.listdir(\"dataset_B\")\n",
    "\n",
    "# flip function for two images\n",
    "def flip_paired_images(filename):\n",
    "    image_A = Image.open(\"dataset_A/\" + filename)\n",
    "    image_B = Image.open(\"dataset_B/\" + filename)\n",
    "    new_image_A = ImageOps.mirror(image_A)\n",
    "    new_image_B = ImageOps.mirror(image_B)\n",
    "    new_filename = str(filename)[:-4] + \"_flipped.png\"\n",
    "    new_image_A.save(\"dataset_A/\" + str(new_filename), \"PNG\")\n",
    "    new_image_B.save(\"dataset_B/\" + str(new_filename), \"PNG\")\n",
    "    return\n",
    "\n",
    "# loop the function\n",
    "for every_image in sketch:\n",
    "    if every_image != \".DS_Store\" and os.path.exists(\"dataset_B/\" + str(every_image)):\n",
    "        flip_paired_images(str(every_image))\n",
    "        print(\"succeed\")\n"
   ]
  },
  {
   "cell_type": "code",
   "execution_count": 72,
   "id": "dc7d2dcd-78c4-41fd-a310-fb268e5a0b7a",
   "metadata": {},
   "outputs": [],
   "source": [
    "sketch = os.listdir(\"dataset_A\")\n",
    "model = os.listdir(\"dataset_B\")\n",
    "\n",
    "# zoom in function\n",
    "def zoom_at(img, zoom):\n",
    "    w, h = img.size\n",
    "    x = int(img.width / 2)\n",
    "    y = int(img.height / 2)\n",
    "    zoom2 = zoom * 2\n",
    "    img = img.crop((x - w / zoom2, y - h / zoom2, \n",
    "                    x + w / zoom2, y + h / zoom2))\n",
    "    return img.resize((w, h), Image.LANCZOS)\n",
    "\n",
    "# zoom in function for two images\n",
    "# code adapted from https://stackoverflow.com/questions/46149003/pil-zoom-into-image-at-a-particular-point (Douwe Osinga)\n",
    "def zoomin_paired_images(filename):\n",
    "    zoom_ratio = 1.15\n",
    "    image_A = Image.open(\"dataset_A/\" + filename)\n",
    "    image_B = Image.open(\"dataset_B/\" + filename)\n",
    "    new_image_A = zoom_at(image_A, zoom_ratio)\n",
    "    new_image_B = zoom_at(image_B, zoom_ratio)\n",
    "    new_filename = str(filename)[:-4] + \"_zoomin115\" + \".png\"\n",
    "    new_image_A.save(\"dataset_A/\" + str(new_filename), \"PNG\")\n",
    "    new_image_B.save(\"dataset_B/\" + str(new_filename), \"PNG\")\n",
    "    return\n",
    "\n",
    "for every_image in sketch:\n",
    "    if every_image != \".DS_Store\" and os.path.exists(\"dataset_B/\" + str(every_image)):\n",
    "        zoomin_paired_images(str(every_image))"
   ]
  }
 ],
 "metadata": {
  "kernelspec": {
   "display_name": "Python 3 (ipykernel)",
   "language": "python",
   "name": "python3"
  },
  "language_info": {
   "codemirror_mode": {
    "name": "ipython",
    "version": 3
   },
   "file_extension": ".py",
   "mimetype": "text/x-python",
   "name": "python",
   "nbconvert_exporter": "python",
   "pygments_lexer": "ipython3",
   "version": "3.9.7"
  }
 },
 "nbformat": 4,
 "nbformat_minor": 5
}
